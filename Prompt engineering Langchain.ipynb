{
 "cells": [
  {
   "cell_type": "code",
   "execution_count": 2,
   "id": "468edf6c",
   "metadata": {},
   "outputs": [],
   "source": [
    "import os\n",
    "from constants import openai_key"
   ]
  },
  {
   "cell_type": "code",
   "execution_count": 3,
   "id": "4f466696",
   "metadata": {},
   "outputs": [],
   "source": [
    "os.environ['OPENAI_API_KEY'] = openai_key"
   ]
  },
  {
   "cell_type": "code",
   "execution_count": 4,
   "id": "5ac959b3",
   "metadata": {},
   "outputs": [],
   "source": [
    "from langchain import PromptTemplate"
   ]
  },
  {
   "cell_type": "code",
   "execution_count": 7,
   "id": "2844c470",
   "metadata": {},
   "outputs": [],
   "source": [
    "demo_template = '''I want you to act as a financial advisor for people. \n",
    "In an easy way, explain the basics of {financial_concept}.'''"
   ]
  },
  {
   "cell_type": "code",
   "execution_count": 8,
   "id": "9255c40c",
   "metadata": {},
   "outputs": [],
   "source": [
    "prompt = PromptTemplate(\n",
    "input_variables=['financial_concept'],\n",
    "template=demo_template\n",
    ")"
   ]
  },
  {
   "cell_type": "code",
   "execution_count": 9,
   "id": "ff4a5c6f",
   "metadata": {},
   "outputs": [
    {
     "data": {
      "text/plain": [
       "'I want you to act as a financial advisor for people. \\nIn an easy way, explain the basics of income tax.'"
      ]
     },
     "execution_count": 9,
     "metadata": {},
     "output_type": "execute_result"
    }
   ],
   "source": [
    "prompt.format(financial_concept='income tax')"
   ]
  },
  {
   "cell_type": "code",
   "execution_count": 10,
   "id": "c2daf135",
   "metadata": {},
   "outputs": [],
   "source": [
    "from langchain.llms import OpenAI\n",
    "from langchain.chains import LLMChain\n",
    "\n",
    "llm = OpenAI(temperature=0.7)"
   ]
  },
  {
   "cell_type": "code",
   "execution_count": 11,
   "id": "9e6415e1",
   "metadata": {},
   "outputs": [],
   "source": [
    "chain1 = LLMChain(llm=llm, prompt=prompt)"
   ]
  },
  {
   "cell_type": "code",
   "execution_count": 12,
   "id": "7414d34e",
   "metadata": {},
   "outputs": [
    {
     "data": {
      "text/plain": [
       "\"\\n\\nSure, I'd be happy to explain the basics of income tax. Income tax is a type of tax that is imposed by the government on the money that individuals earn from various sources such as their job, investments, or rental income.\\n\\nThe amount of income tax you owe is based on a percentage of your total income, also known as your tax rate. This tax rate can vary depending on your income level and filing status (single, married, etc.).\\n\\nTo determine how much income tax you owe, you will need to file a tax return with the government every year. This includes reporting all of your income and any deductions or credits you may be eligible for.\\n\\nSome common deductions that can lower your taxable income include charitable donations, certain business expenses, and mortgage interest payments. On the other hand, tax credits directly reduce the amount of tax you owe and can include things like education or child care expenses.\\n\\nOnce you have completed your tax return, the government will calculate how much income tax you owe and compare it to any taxes that have already been withheld from your paychecks throughout the year. If you have paid more than you owe, you will receive a tax refund. If you have not paid enough, you will need to make a payment to cover the difference.\\n\\nIt's important\""
      ]
     },
     "execution_count": 12,
     "metadata": {},
     "output_type": "execute_result"
    }
   ],
   "source": [
    "chain1.run('income tax')"
   ]
  },
  {
   "cell_type": "code",
   "execution_count": 13,
   "id": "04907918",
   "metadata": {},
   "outputs": [],
   "source": [
    "## Language Translation"
   ]
  },
  {
   "cell_type": "code",
   "execution_count": 18,
   "id": "7f928c09",
   "metadata": {},
   "outputs": [],
   "source": [
    "template = '''In an easy way translate the following sentence '{sentence}' into {target_language}'''"
   ]
  },
  {
   "cell_type": "code",
   "execution_count": 19,
   "id": "2ed81bd5",
   "metadata": {},
   "outputs": [],
   "source": [
    "language_prompt = PromptTemplate(\n",
    "input_variables=['sentence','target_language'],\n",
    "template=template\n",
    ")"
   ]
  },
  {
   "cell_type": "code",
   "execution_count": 20,
   "id": "e64e5f80",
   "metadata": {},
   "outputs": [
    {
     "data": {
      "text/plain": [
       "\"In an easy way translate the following sentence 'How are you?' into French\""
      ]
     },
     "execution_count": 20,
     "metadata": {},
     "output_type": "execute_result"
    }
   ],
   "source": [
    "language_prompt.format(sentence='How are you?', target_language='French')"
   ]
  },
  {
   "cell_type": "code",
   "execution_count": 23,
   "id": "50cf2093",
   "metadata": {},
   "outputs": [],
   "source": [
    "chain2 = LLMChain(llm=llm, prompt=language_prompt)"
   ]
  },
  {
   "cell_type": "code",
   "execution_count": 25,
   "id": "fd267fb5",
   "metadata": {},
   "outputs": [
    {
     "data": {
      "text/plain": [
       "{'sentence': 'How are you',\n",
       " 'target_language': 'Tamil',\n",
       " 'text': '\\n\\nநீங்கள் எப்படி உள்ளீர்கள்? (Nīṅkaḷ eppaṭi uḷḷīrkkaḷ?)'}"
      ]
     },
     "execution_count": 25,
     "metadata": {},
     "output_type": "execute_result"
    }
   ],
   "source": [
    "chain2({'sentence':'How are you','target_language':'Tamil'})"
   ]
  },
  {
   "cell_type": "code",
   "execution_count": 26,
   "id": "7c761351",
   "metadata": {},
   "outputs": [],
   "source": [
    "### Example3"
   ]
  },
  {
   "cell_type": "code",
   "execution_count": 27,
   "id": "3aa0bf63",
   "metadata": {},
   "outputs": [],
   "source": [
    "from langchain import FewShotPromptTemplate"
   ]
  },
  {
   "cell_type": "code",
   "execution_count": 28,
   "id": "b517deda",
   "metadata": {},
   "outputs": [],
   "source": [
    "examples = [{'word':'happy','antonym':'sad'},\n",
    "            {'word':'tall','antonym':'short'}\n",
    "           ]"
   ]
  },
  {
   "cell_type": "code",
   "execution_count": 29,
   "id": "38773c0f",
   "metadata": {},
   "outputs": [],
   "source": [
    "example_formatter_template =\"\"\"Word:{word}\n",
    "Antonym:{antonym}\n",
    "\"\"\""
   ]
  },
  {
   "cell_type": "code",
   "execution_count": 31,
   "id": "1b148e9e",
   "metadata": {},
   "outputs": [],
   "source": [
    "example_prompt = PromptTemplate(\n",
    "input_variables=['word','antonym'],\n",
    "template=example_formatter_template\n",
    ")"
   ]
  },
  {
   "cell_type": "code",
   "execution_count": 32,
   "id": "c2bec3af",
   "metadata": {},
   "outputs": [],
   "source": [
    "few_short_prompt = FewShotPromptTemplate(\n",
    "    examples=examples,\n",
    "    example_prompt=example_prompt,\n",
    "    prefix='Give the antonym of every input',\n",
    "    suffix='Word:{input}\\nAntonym:',\n",
    "    input_variables=['input'],\n",
    "    example_separator='\\n'\n",
    ")"
   ]
  },
  {
   "cell_type": "code",
   "execution_count": 34,
   "id": "24db9133",
   "metadata": {},
   "outputs": [
    {
     "name": "stdout",
     "output_type": "stream",
     "text": [
      "Give the antonym of every input\n",
      "Word:happy\n",
      "Antonym:sad\n",
      "\n",
      "Word:tall\n",
      "Antonym:short\n",
      "\n",
      "Word:big\n",
      "Antonym:\n"
     ]
    }
   ],
   "source": [
    "print(few_short_prompt.format(input='big'))"
   ]
  },
  {
   "cell_type": "code",
   "execution_count": 35,
   "id": "bbc64b64",
   "metadata": {},
   "outputs": [],
   "source": [
    "chain3 = LLMChain(llm=llm, prompt=few_short_prompt)"
   ]
  },
  {
   "cell_type": "code",
   "execution_count": 38,
   "id": "fb16a410",
   "metadata": {},
   "outputs": [
    {
     "data": {
      "text/plain": [
       "'bad'"
      ]
     },
     "execution_count": 38,
     "metadata": {},
     "output_type": "execute_result"
    }
   ],
   "source": [
    "chain3.run('good')"
   ]
  },
  {
   "cell_type": "code",
   "execution_count": 39,
   "id": "440f2fbb",
   "metadata": {},
   "outputs": [
    {
     "data": {
      "text/plain": [
       "{'input': 'big', 'text': 'small'}"
      ]
     },
     "execution_count": 39,
     "metadata": {},
     "output_type": "execute_result"
    }
   ],
   "source": [
    "chain3({'input':'big'})"
   ]
  },
  {
   "cell_type": "code",
   "execution_count": null,
   "id": "b6dbdcfa",
   "metadata": {},
   "outputs": [],
   "source": []
  }
 ],
 "metadata": {
  "kernelspec": {
   "display_name": "Python 3 (ipykernel)",
   "language": "python",
   "name": "python3"
  },
  "language_info": {
   "codemirror_mode": {
    "name": "ipython",
    "version": 3
   },
   "file_extension": ".py",
   "mimetype": "text/x-python",
   "name": "python",
   "nbconvert_exporter": "python",
   "pygments_lexer": "ipython3",
   "version": "3.10.9"
  }
 },
 "nbformat": 4,
 "nbformat_minor": 5
}
